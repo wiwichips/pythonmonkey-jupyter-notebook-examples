{
  "nbformat": 4,
  "nbformat_minor": 0,
  "metadata": {
    "colab": {
      "provenance": []
    },
    "kernelspec": {
      "name": "python3",
      "display_name": "Python 3"
    },
    "language_info": {
      "name": "python"
    }
  },
  "cells": [
    {
      "cell_type": "markdown",
      "source": [
        "# PythonMonkey Examples\n",
        "This notebook contains a number of example PythonMonkey examples. Play around with them get a feel for using PythonMonkey for JavaScript execution in Python."
      ],
      "metadata": {
        "id": "XfyIFe1t6w-Z"
      }
    },
    {
      "cell_type": "code",
      "execution_count": 30,
      "metadata": {
        "colab": {
          "base_uri": "https://localhost:8080/"
        },
        "id": "Zi6S6BWMF1KD",
        "outputId": "47a7f32b-1485-4fea-ec98-528c3b92dd4f"
      },
      "outputs": [
        {
          "output_type": "stream",
          "name": "stdout",
          "text": [
            "Looking in indexes: https://pypi.org/simple, https://nightly.pythonmonkey.io/\n",
            "Requirement already satisfied: pythonmonkey in /usr/local/lib/python3.10/dist-packages (0.2.1.dev10+ae133ef)\n",
            "Requirement already satisfied: pminit in /usr/local/lib/python3.10/dist-packages (from pythonmonkey) (0.2.1.dev10+ae133ef)\n"
          ]
        }
      ],
      "source": [
        "!pip install --extra-index-url https://nightly.pythonmonkey.io/ --pre pythonmonkey\n"
      ]
    },
    {
      "cell_type": "markdown",
      "source": [
        "# Examples using pythonmonkey.eval to evaluate JavaScript code"
      ],
      "metadata": {
        "id": "sXxSL_006wmX"
      }
    },
    {
      "cell_type": "code",
      "source": [
        "\"\"\"\n",
        "console.log example\n",
        "\n",
        "This example demonstrates printing to stdout from JS evaluated in Python.\n",
        "\"\"\"\n",
        "import pythonmonkey as pm\n",
        "\n",
        "pm.eval(\"console.log('Hello from JavaScript');\")"
      ],
      "metadata": {
        "id": "MlMyc6Ryi77i",
        "outputId": "2270ce5e-02f2-4e3d-b530-e78c6ff8aa4c",
        "colab": {
          "base_uri": "https://localhost:8080/"
        }
      },
      "execution_count": null,
      "outputs": [
        {
          "output_type": "stream",
          "name": "stdout",
          "text": [
            "Hello from JavaScript\n"
          ]
        }
      ]
    },
    {
      "cell_type": "code",
      "source": [
        "\"\"\"\n",
        "toUpperCase example\n",
        "\n",
        "This example demonstrates executing a JavaScript function in Python which uses\n",
        "a JavaScript string method toUpperCase.\n",
        "\"\"\"\n",
        "import pythonmonkey as pm\n",
        "\n",
        "upify = pm.eval(\"(s) => s.toUpperCase()\")\n",
        "print(upify(\"Python string passed to a js function\"))"
      ],
      "metadata": {
        "colab": {
          "base_uri": "https://localhost:8080/"
        },
        "id": "-7PZqYotGCxP",
        "outputId": "cbc7b6ee-44ef-4c7b-8d26-2fb7c21ef84a"
      },
      "execution_count": null,
      "outputs": [
        {
          "output_type": "stream",
          "name": "stdout",
          "text": [
            "PYTHON STRING PASSED TO A JS FUNCTION\n"
          ]
        }
      ]
    },
    {
      "cell_type": "code",
      "source": [
        "\"\"\"\n",
        "Python Dictionary to JavaScript Object example\n",
        "\n",
        "This example demonstrates defining a function in JS that logs properties of a js\n",
        "object and executing that function from Python with a Python Dictionary passed.\n",
        "\"\"\"\n",
        "import pythonmonkey as pm\n",
        "\n",
        "my_dict = {\n",
        "    \"a\": 1,\n",
        "    \"b\": 2,\n",
        "}\n",
        "\n",
        "pm.eval(\"\"\"\n",
        "    function logObject(obj) {\n",
        "        console.log(`a = ${obj.a}`);\n",
        "        console.log(`b = ${obj.b}`);\n",
        "    }\n",
        "\"\"\")\n",
        "\n",
        "pm.eval(\"logObject\")(my_dict)"
      ],
      "metadata": {
        "id": "7GzL6QkRGN5E",
        "outputId": "c1eef6e4-9bc3-4c0c-cab5-03cc7e589e5a",
        "colab": {
          "base_uri": "https://localhost:8080/"
        }
      },
      "execution_count": 54,
      "outputs": [
        {
          "output_type": "stream",
          "name": "stdout",
          "text": [
            "a = 1\n",
            "b = 2\n"
          ]
        }
      ]
    },
    {
      "cell_type": "code",
      "source": [
        "\"\"\"\n",
        "JavaScript Object to Python Dictionary-like example\n",
        "\n",
        "This example demonstrates passing an object defined in JavaScript to Python.\n",
        "\"\"\"\n",
        "\n",
        "js_obj = pm.eval(\"({ a: 1, b: () => 2 })\")\n",
        "\n",
        "print(js_obj) # {'a': 1.0, 'b': <built-in method JSFunctionCallable of tuple object at 0x7b5d50926f80>}\n",
        "print(js_obj.a) # 1.0\n",
        "print(js_obj['a']) # 1.0\n",
        "print(js_obj.b()) # 2.0"
      ],
      "metadata": {
        "id": "XLhSafTzkLJd",
        "colab": {
          "base_uri": "https://localhost:8080/"
        },
        "outputId": "3b588ab7-23cb-464b-d7dc-259b9af5435a"
      },
      "execution_count": null,
      "outputs": [
        {
          "output_type": "stream",
          "name": "stdout",
          "text": [
            "{'a': 1.0, 'b': <built-in method JSFunctionCallable of tuple object at 0x7b5d509311c0>}\n",
            "1.0\n",
            "1.0\n",
            "2.0\n"
          ]
        }
      ]
    },
    {
      "cell_type": "markdown",
      "source": [
        "# Examples using pythonmonkey.globalThis to get global variables from JS"
      ],
      "metadata": {
        "id": "C-VRVY4xo3CH"
      }
    },
    {
      "cell_type": "code",
      "source": [
        "\"\"\"\n",
        "Accessing JS api from globalThis\n",
        "\n",
        "This example demonstrates a couple different ways to access JS APIs. This\n",
        "example will show how you can use it to access the WebAssembly JS api from\n",
        "JavaScript.\n",
        "\"\"\"\n",
        "import pythonmonkey\n",
        "print(pythonmonkey.eval(\"WebAssembly\")) # one method of getting the WASM api\n",
        "print(pythonmonkey.globalThis.WebAssembly) # pm.globalThis can also be used"
      ],
      "metadata": {
        "id": "76fse64kpAXT"
      },
      "execution_count": null,
      "outputs": []
    },
    {
      "cell_type": "code",
      "source": [
        "\"\"\"\n",
        "Accessing a global JavaScript variable defined in a context from Python.\n",
        "\"\"\"\n",
        "import pythonmonkey as pm\n",
        "\n",
        "# define a global variable in a JavaScript context\n",
        "pm.eval(\"myAwesomeGlobal = 7;\")\n",
        "\n",
        "# access it using globalThis or eval\n",
        "print(pm.eval(\"myAwesomeGlobal\")) # 7.0\n",
        "print(pm.globalThis.myAwesomeGlobal) # 7.0\n",
        "\n",
        "# modify the variable using globalThis api\n",
        "pm.globalThis.myAwesomeGlobal = 22\n",
        "\n",
        "# print to see if it changes to 22\n",
        "print(pm.eval(\"myAwesomeGlobal\")) # 22.0\n",
        "print(pm.globalThis.myAwesomeGlobal) # 22.0"
      ],
      "metadata": {
        "colab": {
          "base_uri": "https://localhost:8080/"
        },
        "id": "E35SSEnQptf-",
        "outputId": "998a3691-fea3-4a62-a3a1-a4e5da692c9d"
      },
      "execution_count": null,
      "outputs": [
        {
          "output_type": "stream",
          "name": "stdout",
          "text": [
            "7.0\n",
            "7.0\n",
            "22.0\n",
            "22.0\n"
          ]
        }
      ]
    },
    {
      "cell_type": "markdown",
      "source": [
        "# Using JavaScript Promises in Python with asyncio\n",
        "Note: we'll need to install nest_asyncio to get these examples working in a Google Colab environemnt. You will not need to use this library in typical Python environments."
      ],
      "metadata": {
        "id": "nivQDD0urGpt"
      }
    },
    {
      "cell_type": "code",
      "source": [
        "!pip install nest_asyncio"
      ],
      "metadata": {
        "colab": {
          "base_uri": "https://localhost:8080/"
        },
        "id": "_hSYU3qiwJL-",
        "outputId": "33d3d461-9766-4229-99d0-4c1d6059409a"
      },
      "execution_count": null,
      "outputs": [
        {
          "output_type": "stream",
          "name": "stdout",
          "text": [
            "Requirement already satisfied: nest_asyncio in /usr/local/lib/python3.10/dist-packages (1.5.6)\n"
          ]
        }
      ]
    },
    {
      "cell_type": "code",
      "source": [
        "\"\"\"\n",
        "Running a JavaScript Promise in Python\n",
        "\n",
        "This example will demonstrate using asyncio to await a promise which resolves\n",
        "after 2 seconds.\n",
        "\"\"\"\n",
        "import pythonmonkey\n",
        "import asyncio\n",
        "\n",
        "## !!!\n",
        "# Since we're running this example inside of google colab, we need to nest the\n",
        "# async event loop using nest_asyncio... You will not need to run the following\n",
        "# two lines in typical cases.\n",
        "import nest_asyncio\n",
        "nest_asyncio.apply()\n",
        "## !!!\n",
        "\n",
        "async def someAsyncStuff():\n",
        "    two_sec_promise = pythonmonkey.eval(\"\"\"\n",
        "        new Promise((resolve, reject) => {\n",
        "            setTimeout(resolve, 2000);\n",
        "        });\n",
        "    \"\"\")\n",
        "\n",
        "    print(\"before calling the 2 second timer\")\n",
        "    await two_sec_promise\n",
        "    print(\"two seconds have now passed\")\n",
        "\n",
        "asyncio.run(someAsyncStuff())"
      ],
      "metadata": {
        "colab": {
          "base_uri": "https://localhost:8080/"
        },
        "id": "uNu07IwDyvfx",
        "outputId": "bc88ba7a-5386-4e1a-b75f-093a98136c93"
      },
      "execution_count": 38,
      "outputs": [
        {
          "output_type": "stream",
          "name": "stdout",
          "text": [
            "before calling the 2 second timer\n",
            "two seconds have now passed\n"
          ]
        }
      ]
    },
    {
      "cell_type": "code",
      "source": [
        "\"\"\"\n",
        "Executing WebAssembly from Python\n",
        "\n",
        "PythonMonkey uses SpiderMonkey, which is a JavaScript and WebAssembly engine.\n",
        "Using the JavaScript WebAssembly API and calling it from Python using PythonMonkey,\n",
        "we can execute WebAssembly easily in Python.\n",
        "\n",
        "Refer to the MDN documentation for more information on WebAssembly.instantiate\n",
        "https://developer.mozilla.org/en-US/docs/WebAssembly/JavaScript_interface/instantiate\n",
        "\"\"\"\n",
        "import pythonmonkey\n",
        "import asyncio\n",
        "WebAssembly = pythonmonkey.globalThis.WebAssembly\n",
        "\n",
        "## !!!\n",
        "# Since we're running this example inside of google colab, we need to nest the\n",
        "# async event loop using nest_asyncio... You will not need to run the following\n",
        "# two lines in typical cases.\n",
        "import nest_asyncio\n",
        "nest_asyncio.apply()\n",
        "## !!!\n",
        "\n",
        "# This is some WebAssembly code which calculates the factorial in a function called\n",
        "# fac. Typically you would read a file in python and not hard code the bytes into\n",
        "# the file like this.\n",
        "wasm_bytes = bytearray(b'\\x00asm\\x01\\x00\\x00\\x00\\x01\\x06\\x01`\\x01|\\x01|\\x03\\x02\\x01\\x00\\x07\\x07\\x01\\x03fac\\x00\\x00\\n.\\x01,\\x00 \\x00D\\x00\\x00\\x00\\x00\\x00\\x00\\xf0?c\\x04|D\\x00\\x00\\x00\\x00\\x00\\x00\\xf0?\\x05 \\x00 \\x00D\\x00\\x00\\x00\\x00\\x00\\x00\\xf0?\\xa1\\x10\\x00\\xa2\\x0b\\x0b\\x00\\x12\\x04name\\x01\\x06\\x01\\x00\\x03fac\\x02\\x03\\x01\\x00\\x00')\n",
        "\n",
        "async def getWasmExports(wasm_bytes):\n",
        "    # WebAssembly.instantiate returns a promise which we'll await in python\n",
        "    return (await WebAssembly.instantiate(wasm_bytes, {})).instance.exports\n",
        "\n",
        "my_wasm_module = asyncio.run(getWasmExports(wasm_bytes))\n",
        "\n",
        "# execute WebAssembly code in Python!\n",
        "print(my_wasm_module.fac(4)) # this outputs \"24.0\" since factorial(4) == 24\n",
        "print(my_wasm_module.fac(5)) # this outputs \"120.0\"\n",
        "print(my_wasm_module.fac(6)) # this outputs \"720.0\"\n",
        "\n"
      ],
      "metadata": {
        "colab": {
          "base_uri": "https://localhost:8080/"
        },
        "id": "otT7Ecu2qYVH",
        "outputId": "90667e29-a014-4a34-a7e4-68ec784d3636"
      },
      "execution_count": null,
      "outputs": [
        {
          "output_type": "stream",
          "name": "stdout",
          "text": [
            "24.0\n",
            "120.0\n",
            "720.0\n"
          ]
        }
      ]
    },
    {
      "cell_type": "markdown",
      "source": [
        "# Example using pythonmonkey.require to load JavaScript modules in Python\n",
        "I created a file located at /simple-math.js that contains the following code:\n",
        "\n",
        "\n",
        "```\n",
        "function add(a,b) {\n",
        "  return a + b;\n",
        "}\n",
        "\n",
        "function sub(a,b) {\n",
        "  return a - b;\n",
        "}\n",
        "\n",
        "module.exports = {\n",
        "  add,\n",
        "  sub,\n",
        "}\n",
        "```\n",
        "We'll load this JavaScript module from Python and call its methods using `pythonmonkey.require`.\n"
      ],
      "metadata": {
        "id": "ekZw1Vpy07LV"
      }
    },
    {
      "cell_type": "code",
      "source": [
        "import pythonmonkey as pm\n",
        "js_lib = pm.require('/simple-math')\n",
        "\n",
        "print(js_lib.add(1,2)) #  3.0\n",
        "print(js_lib.sub(1,2)) # -1.0"
      ],
      "metadata": {
        "colab": {
          "base_uri": "https://localhost:8080/"
        },
        "id": "1Ha0GRTg1BGF",
        "outputId": "2b62aec1-351c-41ff-9256-f5b1329d08ed"
      },
      "execution_count": 41,
      "outputs": [
        {
          "output_type": "stream",
          "name": "stdout",
          "text": [
            "3.0\n",
            "-1.0\n"
          ]
        }
      ]
    },
    {
      "cell_type": "markdown",
      "source": [
        "# Example executing Python from within JavaScript\n",
        "Using PythonMonkey, you can also execute Python code directly in your JavaScript code. Here are some examples demonstrating that."
      ],
      "metadata": {
        "id": "z2yxl9Zr4ZLk"
      }
    },
    {
      "cell_type": "code",
      "source": [
        "import pythonmonkey as pm\n",
        "pm.eval(\"\"\"\n",
        "    python.print(\"Hello from Python called from JavaScript called from Python\");\n",
        "\"\"\")"
      ],
      "metadata": {
        "colab": {
          "base_uri": "https://localhost:8080/"
        },
        "id": "fwGh_BIw4eEr",
        "outputId": "bc507340-27fc-474c-c330-45c0d61c09ee"
      },
      "execution_count": 42,
      "outputs": [
        {
          "output_type": "stream",
          "name": "stdout",
          "text": [
            "Hello from Python called from JavaScript called from Python\n"
          ]
        }
      ]
    },
    {
      "cell_type": "code",
      "source": [
        "import pythonmonkey as pm\n",
        "pm.eval(\"\"\"\n",
        "    // define a function in python\n",
        "    python.exec(`\n",
        "def pySquare(num):\n",
        "  return num * num\n",
        "    `);\n",
        "\n",
        "    // execute the function defined in Python in js and print the answer\n",
        "    console.log( python.eval('pySquare')(7) ); // 49\n",
        "    console.log( python.eval('pySquare')(5) ); // 25\n",
        "\"\"\")"
      ],
      "metadata": {
        "colab": {
          "base_uri": "https://localhost:8080/"
        },
        "id": "pkwm21vs4zGh",
        "outputId": "cdd94885-7c28-4343-c8b9-9e7ecbbbdac6"
      },
      "execution_count": 59,
      "outputs": [
        {
          "output_type": "stream",
          "name": "stdout",
          "text": [
            "\u001b[33m49\u001b[39m\n",
            "\u001b[33m25\u001b[39m\n"
          ]
        }
      ]
    },
    {
      "cell_type": "markdown",
      "source": [
        "# Example using pythonmonkey.new to instantiate JavaScript objects\n",
        "Since Python lacks a 'new' keyword for instantiating objects, but some JavaScript objects require the usage of 'new', PythonMonkey provides an API for wrapping JavaScript constructors in new so they can be called from Python."
      ],
      "metadata": {
        "id": "enE2qoUh0Mfo"
      }
    },
    {
      "cell_type": "code",
      "source": [
        "import pythonmonkey as pm\n",
        "\n",
        "my_date = pm.new(pm.globalThis.Date)(0) # instantiates a new date object\n",
        "print(my_date)"
      ],
      "metadata": {
        "id": "1UAfGwxZqY3N",
        "colab": {
          "base_uri": "https://localhost:8080/",
          "height": 219
        },
        "outputId": "fb1dee49-d6ac-45ad-9662-ac1d852dee1f"
      },
      "execution_count": 40,
      "outputs": [
        {
          "output_type": "error",
          "ename": "AttributeError",
          "evalue": "ignored",
          "traceback": [
            "\u001b[0;31m---------------------------------------------------------------------------\u001b[0m",
            "\u001b[0;31mAttributeError\u001b[0m                            Traceback (most recent call last)",
            "\u001b[0;32m<ipython-input-40-b16c9f09560a>\u001b[0m in \u001b[0;36m<cell line: 3>\u001b[0;34m()\u001b[0m\n\u001b[1;32m      1\u001b[0m \u001b[0;32mimport\u001b[0m \u001b[0mpythonmonkey\u001b[0m \u001b[0;32mas\u001b[0m \u001b[0mpm\u001b[0m\u001b[0;34m\u001b[0m\u001b[0;34m\u001b[0m\u001b[0m\n\u001b[1;32m      2\u001b[0m \u001b[0;34m\u001b[0m\u001b[0m\n\u001b[0;32m----> 3\u001b[0;31m \u001b[0mmy_date\u001b[0m \u001b[0;34m=\u001b[0m \u001b[0mpm\u001b[0m\u001b[0;34m.\u001b[0m\u001b[0mnew\u001b[0m\u001b[0;34m(\u001b[0m\u001b[0mpm\u001b[0m\u001b[0;34m.\u001b[0m\u001b[0mglobalThis\u001b[0m\u001b[0;34m.\u001b[0m\u001b[0mDate\u001b[0m\u001b[0;34m)\u001b[0m\u001b[0;34m(\u001b[0m\u001b[0;36m0\u001b[0m\u001b[0;34m)\u001b[0m \u001b[0;31m# instantiates a new date object\u001b[0m\u001b[0;34m\u001b[0m\u001b[0;34m\u001b[0m\u001b[0m\n\u001b[0m\u001b[1;32m      4\u001b[0m \u001b[0mprint\u001b[0m\u001b[0;34m(\u001b[0m\u001b[0mmy_date\u001b[0m\u001b[0;34m)\u001b[0m\u001b[0;34m\u001b[0m\u001b[0;34m\u001b[0m\u001b[0m\n",
            "\u001b[0;31mAttributeError\u001b[0m: module 'pythonmonkey' has no attribute 'new'"
          ]
        }
      ]
    }
  ]
}
